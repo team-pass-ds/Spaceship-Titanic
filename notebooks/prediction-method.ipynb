{
 "cells": [
  {
   "cell_type": "code",
   "execution_count": 8,
   "id": "42a68512",
   "metadata": {
    "ExecuteTime": {
     "end_time": "2022-03-11T08:48:02.438989Z",
     "start_time": "2022-03-11T08:48:02.276914Z"
    }
   },
   "outputs": [],
   "source": [
    "# Built-in imports\n",
    "import warnings\n",
    "from typing import List, Tuple, Dict\n",
    "\n",
    "warnings.filterwarnings('ignore')\n",
    "\n",
    "import numpy as np\n",
    "import pandas as pd\n",
    "\n",
    "import matplotlib.pyplot as plt\n",
    "import seaborn as sns\n",
    "sns.set_style('whitegrid')\n",
    "\n",
    "from sklearn.preprocessing import LabelEncoder\n",
    "from sklearn.tree import DecisionTreeClassifier\n",
    "from sklearn.linear_model import LogisticRegression\n",
    "from sklearn.model_selection import train_test_split\n",
    "from sklearn.metrics import accuracy_score, confusion_matrix, classification_report"
   ]
  },
  {
   "cell_type": "code",
   "execution_count": 4,
   "id": "176a481d",
   "metadata": {
    "ExecuteTime": {
     "end_time": "2022-03-11T08:45:04.552552Z",
     "start_time": "2022-03-11T08:45:04.502523Z"
    }
   },
   "outputs": [],
   "source": [
    "df = pd.read_csv('../data/train.csv')\n",
    "num = df.shape"
   ]
  },
  {
   "cell_type": "code",
   "execution_count": 5,
   "id": "334a66b9",
   "metadata": {
    "ExecuteTime": {
     "end_time": "2022-03-11T08:47:02.621961Z",
     "start_time": "2022-03-11T08:47:02.121250Z"
    }
   },
   "outputs": [],
   "source": [
    "# Preprocessing\n",
    "df['GroupId'] = df.PassengerId.apply(lambda x: x.split('_')[0])\n",
    "df['PassengerId'] = df.PassengerId.apply(lambda x: x.split('_')[1])\n",
    "df.GroupId = df.GroupId.apply(lambda x: int(x))\n",
    "\n",
    "\n",
    "# Breaking Cabin into deck, num and side\n",
    "decks, nums, sides = [], [], []\n",
    "lists = [decks, nums, sides]\n",
    "for _, row in df.iterrows():\n",
    "    if pd.isna(row.Cabin):\n",
    "        for l in lists:\n",
    "            l.append(np.nan)\n",
    "    else:\n",
    "        x = row.Cabin.split('/')\n",
    "        for i, l in enumerate(lists):\n",
    "            l.append(x[i])\n",
    "\n",
    "df['Deck'] = decks\n",
    "df['Num'] = nums\n",
    "df['Side'] = sides\n",
    "\n",
    "# Typecasting num values to int wherever possible, else keeping nan\n",
    "df['Num'] = df.Num.apply(lambda x: int(x) if not pd.isna(x) else np.nan)\n",
    "\n",
    "def get_last_name(name: str) -> str:\n",
    "    if pd.isna(name): return ''\n",
    "    else: return name.split(' ')[1]\n",
    "\n",
    "df['LastName'] = df.Name.apply(lambda x: get_last_name(x))"
   ]
  },
  {
   "cell_type": "code",
   "execution_count": 6,
   "id": "6a660e9b",
   "metadata": {
    "ExecuteTime": {
     "end_time": "2022-03-11T08:47:04.783939Z",
     "start_time": "2022-03-11T08:47:04.738491Z"
    }
   },
   "outputs": [
    {
     "data": {
      "text/html": [
       "<div>\n",
       "<style scoped>\n",
       "    .dataframe tbody tr th:only-of-type {\n",
       "        vertical-align: middle;\n",
       "    }\n",
       "\n",
       "    .dataframe tbody tr th {\n",
       "        vertical-align: top;\n",
       "    }\n",
       "\n",
       "    .dataframe thead th {\n",
       "        text-align: right;\n",
       "    }\n",
       "</style>\n",
       "<table border=\"1\" class=\"dataframe\">\n",
       "  <thead>\n",
       "    <tr style=\"text-align: right;\">\n",
       "      <th></th>\n",
       "      <th>PassengerId</th>\n",
       "      <th>HomePlanet</th>\n",
       "      <th>CryoSleep</th>\n",
       "      <th>Cabin</th>\n",
       "      <th>Destination</th>\n",
       "      <th>Age</th>\n",
       "      <th>VIP</th>\n",
       "      <th>RoomService</th>\n",
       "      <th>FoodCourt</th>\n",
       "      <th>ShoppingMall</th>\n",
       "      <th>Spa</th>\n",
       "      <th>VRDeck</th>\n",
       "      <th>Name</th>\n",
       "      <th>Transported</th>\n",
       "      <th>GroupId</th>\n",
       "      <th>Deck</th>\n",
       "      <th>Num</th>\n",
       "      <th>Side</th>\n",
       "      <th>LastName</th>\n",
       "    </tr>\n",
       "  </thead>\n",
       "  <tbody>\n",
       "    <tr>\n",
       "      <th>0</th>\n",
       "      <td>01</td>\n",
       "      <td>Europa</td>\n",
       "      <td>False</td>\n",
       "      <td>B/0/P</td>\n",
       "      <td>TRAPPIST-1e</td>\n",
       "      <td>39.0</td>\n",
       "      <td>False</td>\n",
       "      <td>0.0</td>\n",
       "      <td>0.0</td>\n",
       "      <td>0.0</td>\n",
       "      <td>0.0</td>\n",
       "      <td>0.0</td>\n",
       "      <td>Maham Ofracculy</td>\n",
       "      <td>False</td>\n",
       "      <td>1</td>\n",
       "      <td>B</td>\n",
       "      <td>0.0</td>\n",
       "      <td>P</td>\n",
       "      <td>Ofracculy</td>\n",
       "    </tr>\n",
       "    <tr>\n",
       "      <th>1</th>\n",
       "      <td>01</td>\n",
       "      <td>Earth</td>\n",
       "      <td>False</td>\n",
       "      <td>F/0/S</td>\n",
       "      <td>TRAPPIST-1e</td>\n",
       "      <td>24.0</td>\n",
       "      <td>False</td>\n",
       "      <td>109.0</td>\n",
       "      <td>9.0</td>\n",
       "      <td>25.0</td>\n",
       "      <td>549.0</td>\n",
       "      <td>44.0</td>\n",
       "      <td>Juanna Vines</td>\n",
       "      <td>True</td>\n",
       "      <td>2</td>\n",
       "      <td>F</td>\n",
       "      <td>0.0</td>\n",
       "      <td>S</td>\n",
       "      <td>Vines</td>\n",
       "    </tr>\n",
       "    <tr>\n",
       "      <th>2</th>\n",
       "      <td>01</td>\n",
       "      <td>Europa</td>\n",
       "      <td>False</td>\n",
       "      <td>A/0/S</td>\n",
       "      <td>TRAPPIST-1e</td>\n",
       "      <td>58.0</td>\n",
       "      <td>True</td>\n",
       "      <td>43.0</td>\n",
       "      <td>3576.0</td>\n",
       "      <td>0.0</td>\n",
       "      <td>6715.0</td>\n",
       "      <td>49.0</td>\n",
       "      <td>Altark Susent</td>\n",
       "      <td>False</td>\n",
       "      <td>3</td>\n",
       "      <td>A</td>\n",
       "      <td>0.0</td>\n",
       "      <td>S</td>\n",
       "      <td>Susent</td>\n",
       "    </tr>\n",
       "  </tbody>\n",
       "</table>\n",
       "</div>"
      ],
      "text/plain": [
       "  PassengerId HomePlanet CryoSleep  Cabin  Destination   Age    VIP  \\\n",
       "0          01     Europa     False  B/0/P  TRAPPIST-1e  39.0  False   \n",
       "1          01      Earth     False  F/0/S  TRAPPIST-1e  24.0  False   \n",
       "2          01     Europa     False  A/0/S  TRAPPIST-1e  58.0   True   \n",
       "\n",
       "   RoomService  FoodCourt  ShoppingMall     Spa  VRDeck             Name  \\\n",
       "0          0.0        0.0           0.0     0.0     0.0  Maham Ofracculy   \n",
       "1        109.0        9.0          25.0   549.0    44.0     Juanna Vines   \n",
       "2         43.0     3576.0           0.0  6715.0    49.0    Altark Susent   \n",
       "\n",
       "   Transported  GroupId Deck  Num Side   LastName  \n",
       "0        False        1    B  0.0    P  Ofracculy  \n",
       "1         True        2    F  0.0    S      Vines  \n",
       "2        False        3    A  0.0    S     Susent  "
      ]
     },
     "execution_count": 6,
     "metadata": {},
     "output_type": "execute_result"
    }
   ],
   "source": [
    "df.head(3)"
   ]
  },
  {
   "cell_type": "code",
   "execution_count": 9,
   "id": "862b85be",
   "metadata": {
    "ExecuteTime": {
     "end_time": "2022-03-11T08:48:23.809732Z",
     "start_time": "2022-03-11T08:48:23.804862Z"
    }
   },
   "outputs": [],
   "source": [
    "import pandas as pd\n",
    "from typing import List, Dict, Any\n",
    "from sklearn.preprocessing import LabelEncoder\n",
    "\n",
    "\n",
    "def get_encoder_dictionary(df: pd.DataFrame, encode_cols: List[str], **kwargs) -> Dict[str, LabelEncoder]:\n",
    "    encoders: Dict[str, LabelEncoder] = {}\n",
    "    \n",
    "    # For every column we're fitting the encoder\n",
    "    # with all non null values and save it in the\n",
    "    # encoders dictionary with the key `column`\n",
    "    for column in encode_cols:\n",
    "        l = LabelEncoder(**kwargs)\n",
    "        non_null_values: List[Any] = df[~pd.isna(df[column])][column].tolist()\n",
    "        l.fit(non_null_values)\n",
    "        encoders[column] = l\n",
    "    \n",
    "    return encoders"
   ]
  },
  {
   "cell_type": "code",
   "execution_count": 10,
   "id": "6d18bc45",
   "metadata": {
    "ExecuteTime": {
     "end_time": "2022-03-11T08:49:18.895652Z",
     "start_time": "2022-03-11T08:49:18.842696Z"
    }
   },
   "outputs": [],
   "source": [
    "encoder_cols = ['HomePlanet', 'CryoSleep', 'Destination', 'VIP', 'Transported', 'Deck', 'Side', 'LastName']\n",
    "\n",
    "encoders = get_encoder_dictionary(df, encoder_cols)"
   ]
  },
  {
   "cell_type": "code",
   "execution_count": 48,
   "id": "8be17786",
   "metadata": {
    "ExecuteTime": {
     "end_time": "2022-03-11T16:51:35.395020Z",
     "start_time": "2022-03-11T16:51:35.374173Z"
    }
   },
   "outputs": [],
   "source": [
    "def impute_with_classification(\n",
    "    df: pd.DataFrame,\n",
    "    target_attribute: str,\n",
    "    exclude_cols: List[str],\n",
    "    encoders: Dict[str, LabelEncoder],\n",
    "    test: bool = True\n",
    ") -> pd.DataFrame:\n",
    "    \n",
    "    # Exit condition\n",
    "    if df[pd.isna(df[target_attribute])].shape[0] == 0:\n",
    "        return df\n",
    "    \n",
    "    model = DecisionTreeClassifier()\n",
    "    # Columns that're to be used for this model\n",
    "    include_cols = [x for x in df.columns if x not in exclude_cols]\n",
    "    print(include_cols)\n",
    "    \n",
    "    # Making a copy of the dataframe\n",
    "    temp = df[include_cols].copy(deep=True)\n",
    "    temp.dropna(inplace=True)\n",
    "    \n",
    "    for c in temp.columns:\n",
    "        if c in encoders:\n",
    "            temp[c] = encoders[c].transform(temp[c])\n",
    "    \n",
    "    X, y = (temp[[x for x in df.columns if x not in exclude_cols + [target_attribute]]], \n",
    "            temp[target_attribute])\n",
    "\n",
    "    if test:\n",
    "        X_train, X_test, y_train, y_test = train_test_split(X, y, test_size=0.15, random_state=42)\n",
    "        model.fit(X_train, y_train)\n",
    "        # Scores n stuff\n",
    "        preds = model.predict(X_test)\n",
    "        plt.figure(figsize=(7, 5))\n",
    "        sns.heatmap(confusion_matrix(y_test, preds), annot=True, fmt='.0f')\n",
    "        plt.show()\n",
    "        print('\\t\\tCLASSIFICATION REPORT OF DTREE!\\n', '\\t\\t', '~'*40)\n",
    "        print(classification_report(y_test, preds))\n",
    "    \n",
    "    # Final training\n",
    "    model.fit(X, y)\n",
    "    # Processing the dataframe for prediction\n",
    "    X_new = df[pd.isna(df[target_attribute])]\n",
    "    # Selecting only those rows\n",
    "    X_new = X_new[X.columns]\n",
    "    old_shape = X_new.shape[0]\n",
    "    X_new.dropna(inplace=True)\n",
    "    print('Had to drop {} rows'.format(old_shape - X_new.shape[0]))\n",
    "    \n",
    "    # Encoding values for prediction\n",
    "    for column, encoder in encoders.items():\n",
    "        if column in X_new.columns:\n",
    "            X_new[column] = encoder.transform(X_new[column])\n",
    "    predictions = model.predict(X_new)\n",
    "    labels = encoders[target_attribute].inverse_transform(predictions)\n",
    "    index_prediction_mapping: List[Tuple[int, str]] = list(zip(X_new.index.tolist(), labels))\n",
    "    for idx, p in index_prediction_mapping:\n",
    "        df.loc[df.index==idx, target_attribute] = p\n",
    "    \n",
    "    # For the rest of the missing attributes we're imputing with mode\n",
    "    df.loc[pd.isna(df[target_attribute]), target_attribute] = df[target_attribute].mode().iloc[0]\n",
    "    return df"
   ]
  },
  {
   "cell_type": "code",
   "execution_count": 49,
   "id": "c4dbc4e5",
   "metadata": {
    "ExecuteTime": {
     "end_time": "2022-03-11T16:51:36.070782Z",
     "start_time": "2022-03-11T16:51:36.060103Z"
    }
   },
   "outputs": [],
   "source": [
    "exclude_cols = ['PassengerId', 'Cabin', 'Name', 'Transported']\n",
    "target_attr = 'HomePlanet'\n",
    "\n",
    "t = impute_with_classification(df, target_attr, exclude_cols, encoders, test=False)"
   ]
  },
  {
   "cell_type": "code",
   "execution_count": null,
   "id": "5ecd1ec3",
   "metadata": {},
   "outputs": [],
   "source": []
  },
  {
   "cell_type": "code",
   "execution_count": null,
   "id": "98863f9e",
   "metadata": {},
   "outputs": [],
   "source": []
  },
  {
   "cell_type": "code",
   "execution_count": null,
   "id": "b49e9a38",
   "metadata": {},
   "outputs": [],
   "source": []
  }
 ],
 "metadata": {
  "kernelspec": {
   "display_name": "Python 3 (ipykernel)",
   "language": "python",
   "name": "python3"
  },
  "language_info": {
   "codemirror_mode": {
    "name": "ipython",
    "version": 3
   },
   "file_extension": ".py",
   "mimetype": "text/x-python",
   "name": "python",
   "nbconvert_exporter": "python",
   "pygments_lexer": "ipython3",
   "version": "3.9.7"
  },
  "toc": {
   "base_numbering": 1,
   "nav_menu": {},
   "number_sections": true,
   "sideBar": true,
   "skip_h1_title": false,
   "title_cell": "Table of Contents",
   "title_sidebar": "Contents",
   "toc_cell": false,
   "toc_position": {},
   "toc_section_display": true,
   "toc_window_display": false
  }
 },
 "nbformat": 4,
 "nbformat_minor": 5
}
